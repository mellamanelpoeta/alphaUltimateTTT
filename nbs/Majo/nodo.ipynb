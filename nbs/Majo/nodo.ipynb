{
 "cells": [
  {
   "cell_type": "code",
   "execution_count": 17,
   "metadata": {},
   "outputs": [],
   "source": [
    "#imports relevantes\n",
    "import numpy as np\n",
    "from alphaUltimateTTT.UltimateTicTacToe  import *\n",
    "from alphaUltimateTTT.Move import *\n",
    "from alphaUltimateTTT.constants import *"
   ]
  },
  {
   "cell_type": "code",
   "execution_count": 23,
   "metadata": {},
   "outputs": [],
   "source": [
    "#Node class\n",
    "\n",
    "class Nodo:\n",
    "    def __init__(self, hijos = None, game=UltimateTicTacToe(), juego_actual = None, valor_estado = None):\n",
    "        self.hijos={}\n",
    "        self.juego_actual = game.copy()\n",
    "        valor_estado = int\n",
    "\n",
    "    # Functions to add a son to the 'hijos' dictionary\n",
    "    def add_hijo(self, Nodo_hijo, movimiento):\n",
    "        self.hijos[movimiento]= Nodo_hijo\n",
    "\n",
    "\n",
    "    def add_hijo_sinMove(self, Nodo_hijo):\n",
    "        self.hijos['Nodo'+str(len(self.hijos)+1)]=Nodo_hijo\n",
    "\n",
    "     # Functions to adopt the node\n",
    "    def add_papa(self, Nodo_papa, movimiento):\n",
    "        Nodo_papa.add_hijo(self,movimiento)\n",
    "\n",
    "        #returns a boolean showing if the node is a leaf node\n",
    "    def es_hoja(self):\n",
    "        return len(self.hijos) == 0\n",
    "\n"
   ]
  },
  {
   "cell_type": "code",
   "execution_count": 24,
   "metadata": {},
   "outputs": [],
   "source": [
    "g=UltimateTicTacToe()\n",
    "n=Nodo(game=g)\n"
   ]
  },
  {
   "cell_type": "code",
   "execution_count": null,
   "metadata": {},
   "outputs": [],
   "source": []
  },
  {
   "cell_type": "code",
   "execution_count": null,
   "metadata": {},
   "outputs": [],
   "source": []
  }
 ],
 "metadata": {
  "kernelspec": {
   "display_name": ".venv",
   "language": "python",
   "name": "python3"
  },
  "language_info": {
   "codemirror_mode": {
    "name": "ipython",
    "version": 3
   },
   "file_extension": ".py",
   "mimetype": "text/x-python",
   "name": "python",
   "nbconvert_exporter": "python",
   "pygments_lexer": "ipython3",
   "version": "3.11.8"
  }
 },
 "nbformat": 4,
 "nbformat_minor": 2
}
