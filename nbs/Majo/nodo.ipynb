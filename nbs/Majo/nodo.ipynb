{
 "cells": [
  {
   "cell_type": "code",
   "execution_count": 2,
   "metadata": {},
   "outputs": [],
   "source": [
    "#imports relevantes\n",
    "import numpy as np\n",
    "from alphaUltimateTTT.UltimateTicTacToe  import *\n",
    "from alphaUltimateTTT.Move import *\n",
    "from alphaUltimateTTT.constants import *"
   ]
  },
  {
   "cell_type": "code",
   "execution_count": 25,
   "metadata": {},
   "outputs": [],
   "source": [
    "#Node class\n",
    "\n",
    "class Nodo:\n",
    "    def __init__(self, hijos = None, game=UltimateTicTacToe(), juego_actual = None, valor_heuristico = int, posicion_en_arreglo = int):\n",
    "        self.hijos={}\n",
    "        self.juego_actual = game.copy()\n",
    "        self.valor_heuristico = valor_heuristico\n",
    "        self.posicion_en_arreglo = posicion_en_arreglo\n",
    "\n",
    "    # Basic funtions (gets ans sets)\n",
    "    def get_valor_heuristico(self):\n",
    "        return self.valor_heuristico\n",
    "\n",
    "    def set_valor_heuristico(self, v = int):\n",
    "        self.valor_heuristico = int   \n",
    "\n",
    "    def __str__(self):\n",
    "        return f\"Nodo: valor_estado={self.valor_heuristico}, hijos={self.hijos.keys()}\"\n",
    " \n",
    "\n",
    "    # Functions to add a son to the 'hijos' dictionary\n",
    "    def add_hijo(self, Nodo_hijo, movimiento):\n",
    "        self.hijos[movimiento]= Nodo_hijo\n",
    "\n",
    "    def add_hijo_sinMove(self, Nodo_hijo):\n",
    "        self.hijos['Nodo'+str(len(self.hijos)+1)]=Nodo_hijo\n",
    "\n",
    "     # Functions to adopt the node\n",
    "    def add_papa(self, Nodo_papa, movimiento):\n",
    "        Nodo_papa.add_hijo(self,movimiento)\n",
    "\n",
    "        #returns a boolean showing if the node is a leaf node\n",
    "    def es_hoja(self):\n",
    "        return len(self.hijos) == 0\n",
    "    \n",
    "    def get_hijo_max(self):\n",
    "        res = None\n",
    "        valor_max = float('-inf')\n",
    "\n",
    "        for movimiento, hijo in self.hijos.items():\n",
    "            if hijo.get_valor_heuristico() > valor_max:\n",
    "                valor_max = hijo.get_valor_heuristico()\n",
    "                res = hijo\n",
    "\n",
    "        return res\n",
    "    \n",
    "    def get_hijo_min(self):\n",
    "        res = None\n",
    "        valor_min= float('inf')\n",
    "\n",
    "        for movimiento, hijo in self.hijos.items():\n",
    "            if hijo.get_valor_heuristico() < valor_min:\n",
    "                valor_min = hijo.get_valor_heuristico()\n",
    "                res = hijo\n",
    "\n",
    "        return res\n",
    "    \n",
    "    \n",
    "\n",
    "            \n",
    "\n"
   ]
  },
  {
   "cell_type": "code",
   "execution_count": 27,
   "metadata": {},
   "outputs": [
    {
     "name": "stdout",
     "output_type": "stream",
     "text": [
      "Nodo: valor_estado=3, hijos=dict_keys([])\n",
      "Nodo: valor_estado=1, hijos=dict_keys([])\n"
     ]
    }
   ],
   "source": [
    "#Pruebas \n",
    "g=UltimateTicTacToe()\n",
    "n=Nodo(game=g)\n",
    "\n",
    "a=Nodo(game=g, valor_heuristico=1)\n",
    "b=Nodo(game=g, valor_heuristico=2)\n",
    "c=Nodo(game=g, valor_heuristico=3)\n",
    "\n",
    " \n",
    "n.add_hijo(a, 'mov1')\n",
    "n.add_hijo(b, 'mov2')\n",
    "n.add_hijo(c, 'mov3')\n",
    "\n",
    "print(n.get_hijo_max().__str__())\n",
    "print(n.get_hijo_min().__str__())\n",
    "\n"
   ]
  },
  {
   "cell_type": "code",
   "execution_count": null,
   "metadata": {},
   "outputs": [],
   "source": [
    "\n"
   ]
  },
  {
   "cell_type": "code",
   "execution_count": null,
   "metadata": {},
   "outputs": [],
   "source": []
  }
 ],
 "metadata": {
  "kernelspec": {
   "display_name": ".venv",
   "language": "python",
   "name": "python3"
  },
  "language_info": {
   "codemirror_mode": {
    "name": "ipython",
    "version": 3
   },
   "file_extension": ".py",
   "mimetype": "text/x-python",
   "name": "python",
   "nbconvert_exporter": "python",
   "pygments_lexer": "ipython3",
   "version": "3.11.8"
  }
 },
 "nbformat": 4,
 "nbformat_minor": 2
}
